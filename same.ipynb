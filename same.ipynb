{
 "cells": [
  {
   "cell_type": "code",
   "execution_count": 1,
   "metadata": {},
   "outputs": [],
   "source": [
    "import pandas as pd"
   ]
  },
  {
   "cell_type": "code",
   "execution_count": 1,
   "metadata": {},
   "outputs": [],
   "source": [
    "from wordcloud import wordcloud"
   ]
  },
  {
   "cell_type": "code",
   "execution_count": 7,
   "metadata": {},
   "outputs": [
    {
     "ename": "TypeError",
     "evalue": "'module' object is not callable",
     "output_type": "error",
     "traceback": [
      "\u001b[1;31m---------------------------------------------------------------------------\u001b[0m",
      "\u001b[1;31mTypeError\u001b[0m                                 Traceback (most recent call last)",
      "\u001b[1;32me:\\project\\same.ipynb Cell 3\u001b[0m line \u001b[0;36m2\n\u001b[0;32m      <a href='vscode-notebook-cell:/e%3A/project/same.ipynb#W3sZmlsZQ%3D%3D?line=0'>1</a>\u001b[0m \u001b[39m# Create a WordCloud object\u001b[39;00m\n\u001b[1;32m----> <a href='vscode-notebook-cell:/e%3A/project/same.ipynb#W3sZmlsZQ%3D%3D?line=1'>2</a>\u001b[0m wordcloud \u001b[39m=\u001b[39m wordcloud()\n\u001b[0;32m      <a href='vscode-notebook-cell:/e%3A/project/same.ipynb#W3sZmlsZQ%3D%3D?line=3'>4</a>\u001b[0m \u001b[39m# Generate a word cloud from text data\u001b[39;00m\n\u001b[0;32m      <a href='vscode-notebook-cell:/e%3A/project/same.ipynb#W3sZmlsZQ%3D%3D?line=4'>5</a>\u001b[0m wordcloud\u001b[39m.\u001b[39mgenerate(\u001b[39m\"\u001b[39m\u001b[39myour_text_here\u001b[39m\u001b[39m\"\u001b[39m)\n",
      "\u001b[1;31mTypeError\u001b[0m: 'module' object is not callable"
     ]
    }
   ],
   "source": [
    "# Create a WordCloud object\n",
    "wordcloud = wordcloud()\n",
    "\n",
    "# Generate a word cloud from text data\n",
    "wordcloud.generate(\"your_text_here\")\n",
    "\n",
    "# Display or save the word cloud\n",
    "wordcloud.to_file(\"wordcloud.png\")\n"
   ]
  },
  {
   "cell_type": "code",
   "execution_count": 10,
   "metadata": {},
   "outputs": [
    {
     "data": {
      "text/plain": [
       "<wordcloud.wordcloud.WordCloud at 0x1c011e72cd0>"
      ]
     },
     "execution_count": 10,
     "metadata": {},
     "output_type": "execute_result"
    }
   ],
   "source": [
    "# Import the WordCloud class from the wordcloud module\n",
    "from wordcloud import WordCloud\n",
    "\n",
    "# Create a WordCloud object\n",
    "wc = WordCloud()\n",
    "\n",
    "# Generate a word cloud from text data\n",
    "wc.generate(\"your_text_here\")\n"
   ]
  },
  {
   "cell_type": "code",
   "execution_count": null,
   "metadata": {},
   "outputs": [],
   "source": [
    "wc.generate()"
   ]
  }
 ],
 "metadata": {
  "kernelspec": {
   "display_name": "Python 3",
   "language": "python",
   "name": "python3"
  },
  "language_info": {
   "codemirror_mode": {
    "name": "ipython",
    "version": 3
   },
   "file_extension": ".py",
   "mimetype": "text/x-python",
   "name": "python",
   "nbconvert_exporter": "python",
   "pygments_lexer": "ipython3",
   "version": "3.11.2"
  },
  "orig_nbformat": 4
 },
 "nbformat": 4,
 "nbformat_minor": 2
}
